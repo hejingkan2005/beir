{
 "cells": [
  {
   "cell_type": "code",
   "execution_count": 5,
   "metadata": {},
   "outputs": [
    {
     "name": "stderr",
     "output_type": "stream",
     "text": [
      "C:\\Users\\jahe\\AppData\\Roaming\\Python\\Python312\\site-packages\\beir\\util.py:2: TqdmWarning: IProgress not found. Please update jupyter and ipywidgets. See https://ipywidgets.readthedocs.io/en/stable/user_install.html\n",
      "  from tqdm.autonotebook import tqdm\n"
     ]
    }
   ],
   "source": [
    "from beir import util, LoggingHandler\n",
    "from beir.retrieval import models\n",
    "from beir.datasets.data_loader import GenericDataLoader\n",
    "from beir.retrieval.evaluation import EvaluateRetrieval\n",
    "from beir.retrieval.search.dense import DenseRetrievalExactSearch as DRES\n",
    "\n",
    "import logging\n",
    "import pathlib, os\n",
    "\n",
    "#### Just some code to print debug information to stdout\n",
    "logging.basicConfig(format='%(asctime)s - %(message)s',\n",
    "                    datefmt='%Y-%m-%d %H:%M:%S',\n",
    "                    level=logging.INFO,\n",
    "                    handlers=[LoggingHandler()])\n",
    "#### /print debug information to stdout"
   ]
  },
  {
   "cell_type": "code",
   "execution_count": 6,
   "metadata": {},
   "outputs": [
    {
     "name": "stdout",
     "output_type": "stream",
     "text": [
      "2024-12-08 10:04:40 - Downloading scifact.zip ...\n"
     ]
    },
    {
     "name": "stderr",
     "output_type": "stream",
     "text": [
      "c:\\vs_project\\beir\\self\\datasets\\scifact.zip: 100%|██████████| 2.69M/2.69M [00:06<00:00, 448kiB/s]\n"
     ]
    },
    {
     "name": "stdout",
     "output_type": "stream",
     "text": [
      "2024-12-08 10:04:48 - Unzipping scifact.zip ...\n"
     ]
    }
   ],
   "source": [
    "#### Download scifact.zip dataset and unzip the dataset\n",
    "dataset = \"scifact\"\n",
    "url = \"https://public.ukp.informatik.tu-darmstadt.de/thakur/BEIR/datasets/{}.zip\".format(dataset)\n",
    "out_dir = os.path.join(pathlib.Path('__file__').parent.absolute(), \"datasets\")\n",
    "data_path = util.download_and_unzip(url, out_dir)"
   ]
  },
  {
   "cell_type": "markdown",
   "metadata": {},
   "source": []
  },
  {
   "cell_type": "code",
   "execution_count": 23,
   "metadata": {},
   "outputs": [
    {
     "name": "stdout",
     "output_type": "stream",
     "text": [
      "2024-12-08 10:11:12 - Loading Corpus...\n"
     ]
    },
    {
     "name": "stderr",
     "output_type": "stream",
     "text": [
      "100%|██████████| 5183/5183 [00:00<00:00, 153612.43it/s]"
     ]
    },
    {
     "name": "stdout",
     "output_type": "stream",
     "text": [
      "2024-12-08 10:11:12 - Loaded 5183 TEST Documents.\n",
      "2024-12-08 10:11:12 - Doc Example: {'text': 'Alterations of the architecture of cerebral white matter in the developing human brain can affect cortical development and result in functional disabilities. A line scan diffusion-weighted magnetic resonance imaging (MRI) sequence with diffusion tensor analysis was applied to measure the apparent diffusion coefficient, to calculate relative anisotropy, and to delineate three-dimensional fiber architecture in cerebral white matter in preterm (n = 17) and full-term infants (n = 7). To assess effects of prematurity on cerebral white matter development, early gestation preterm infants (n = 10) were studied a second time at term. In the central white matter the mean apparent diffusion coefficient at 28 wk was high, 1.8 microm2/ms, and decreased toward term to 1.2 microm2/ms. In the posterior limb of the internal capsule, the mean apparent diffusion coefficients at both times were similar (1.2 versus 1.1 microm2/ms). Relative anisotropy was higher the closer birth was to term with greater absolute values in the internal capsule than in the central white matter. Preterm infants at term showed higher mean diffusion coefficients in the central white matter (1.4 +/- 0.24 versus 1.15 +/- 0.09 microm2/ms, p = 0.016) and lower relative anisotropy in both areas compared with full-term infants (white matter, 10.9 +/- 0.6 versus 22.9 +/- 3.0%, p = 0.001; internal capsule, 24.0 +/- 4.44 versus 33.1 +/- 0.6% p = 0.006). Nonmyelinated fibers in the corpus callosum were visible by diffusion tensor MRI as early as 28 wk; full-term and preterm infants at term showed marked differences in white matter fiber organization. The data indicate that quantitative assessment of water diffusion by diffusion tensor MRI provides insight into microstructural development in cerebral white matter in living infants.', 'title': 'Microstructural development of human newborn cerebral white matter assessed in vivo by diffusion tensor magnetic resonance imaging.'}\n",
      "2024-12-08 10:11:12 - Loading Queries...\n",
      "2024-12-08 10:11:12 - Loaded 300 TEST Queries.\n",
      "2024-12-08 10:11:12 - Query Example: 0-dimensional biomaterials show inductive properties.\n"
     ]
    },
    {
     "name": "stderr",
     "output_type": "stream",
     "text": [
      "\n"
     ]
    }
   ],
   "source": [
    "#### Provide the data_path where scifact has been downloaded and unzipped\n",
    "corpus, queries, qrels = GenericDataLoader(data_folder=data_path).load(split=\"test\")"
   ]
  },
  {
   "cell_type": "code",
   "execution_count": 26,
   "metadata": {},
   "outputs": [
    {
     "data": {
      "text/plain": [
       "{'1': '0-dimensional biomaterials show inductive properties.',\n",
       " '3': '1,000 genomes project enables mapping of genetic sequence variation consisting of rare variants with larger penetrance effects than common variants.',\n",
       " '5': '1/2000 in UK have abnormal PrP positivity.',\n",
       " '13': '5% of perinatal mortality is due to low birth weight.',\n",
       " '36': 'A deficiency of vitamin B12 increases blood levels of homocysteine.',\n",
       " '42': 'A high microerythrocyte count raises vulnerability to severe anemia in homozygous alpha (+)- thalassemia trait subjects.',\n",
       " '48': 'A total of 1,000 people in the UK are asymptomatic carriers of vCJD infection.',\n",
       " '49': 'ADAR1 binds to Dicer to cleave pre-miRNA.',\n",
       " '50': 'AIRE is expressed in some skin tumors.',\n",
       " '51': 'ALDH1 expression is associated with better breast cancer outcomes.',\n",
       " '53': 'ALDH1 expression is associated with poorer prognosis in breast cancer.',\n",
       " '54': 'AMP-activated protein kinase (AMPK) activation increases inflammation-related fibrosis in the lungs.',\n",
       " '56': 'APOE4 expression in iPSC-derived neurons increases AlphaBeta production and tau phosphorylation causing GABA neuron degeneration.',\n",
       " '57': 'APOE4 expression in iPSC-derived neurons increases AlphaBeta production and tau phosphorylation, delaying GABA neuron degeneration.',\n",
       " '70': 'Activation of PPM1D suppresses p53 function.',\n",
       " '72': 'Activator-inhibitor pairs are provided dorsally by Admpchordin.',\n",
       " '75': 'Active H. pylori urease has a polymeric structure that compromises two subunits, UreA and UreB.',\n",
       " '94': 'Albendazole is used to treat lymphatic filariasis.',\n",
       " '99': 'Alizarin forms hydrogen bonds with residues involved in PGAM1 substrate binding.',\n",
       " '100': 'All hematopoietic stem cells segregate their chromosomes randomly.',\n",
       " '113': 'Angiotensin converting enzyme inhibitors are associated with increased risk for functional renal insufficiency.',\n",
       " '115': 'Anthrax spores can be disposed of easily after they are dispersed.',\n",
       " '118': 'Antibiotic induced alterations in the gut microbiome reduce resistance against Clostridium difficile',\n",
       " '124': 'Antiretroviral therapy reduces rates of tuberculosis across a broad range of CD4 strata.',\n",
       " '127': 'Arginine 90 in p150n is important for interaction with EB1.',\n",
       " '128': 'Arterioles have a larger lumen diameter than venules.',\n",
       " '129': 'Articles published in open access format are less likely to be cited than traditional journals.',\n",
       " '130': 'Articles published in open access format are more likely to be cited than traditional journals.',\n",
       " '132': 'Aspirin inhibits the production of PGE2.',\n",
       " '133': 'Assembly of invadopodia is triggered by focal generation of phosphatidylinositol-3,4-biphosphate and the activation of the nonreceptor tyrosine kinase Src.',\n",
       " '137': 'Asymptomatic visual impairment screening in elderly populations does not lead to improved vision.',\n",
       " '141': 'Auditory entrainment is strengthened when people see congruent visual and auditory information.',\n",
       " '142': 'Autologous transplantation of mesenchymal stem cells causes a higher rate of opportunistic infections than induction therapy with anti-interleukin-2 receptor antibodies.',\n",
       " '143': 'Autologous transplantation of mesenchymal stem cells causes fewer opportunistic infections than induction therapy with anti-interleukin-2 receptor antibodies.',\n",
       " '146': 'Autologous transplantation of mesenchymal stem cells has lower rates of rejection than induction therapy with anti-interleukin-2 receptor antibodies.',\n",
       " '148': 'Autophagy declines in aged organisms.',\n",
       " '163': 'Bariatric surgery has a positive impact on mental health.',\n",
       " '171': 'Basophils counteract disease development in patients with systemic lupus erythematosus (SLE).',\n",
       " '179': 'Birth-weight is positively associated with breast cancer.',\n",
       " '180': 'Blocking the interaction between TDP-43 and respiratory complex I proteins ND3 and ND6 leads to increased TDP-43-induced neuronal loss.',\n",
       " '183': 'Bone marrow cells contribute to adult macrophage compartments.',\n",
       " '185': 'Breast cancer development is determined exclusively by genetic factors.',\n",
       " '198': 'CCL19 is absent within dLNs.',\n",
       " '208': 'CHEK2 is not associated with breast cancer.',\n",
       " '212': 'CR is associated with higher methylation age.',\n",
       " '213': 'CRP is not predictive of postoperative mortality following Coronary Artery Bypass Graft (CABG) surgery.',\n",
       " '216': 'CX3CR1 on the Th2 cells impairs T cell survival',\n",
       " '217': 'CX3CR1 on the Th2 cells promotes T cell survival',\n",
       " '218': 'CX3CR1 on the Th2 cells promotes airway inflammation.',\n",
       " '219': 'CX3CR1 on the Th2 cells suppresses airway inflammation.',\n",
       " '230': 'Carriers of the alcohol aldehyde dehydrogenase deficiency mutation drink less that non-carries.',\n",
       " '232': 'Cataract and trachoma are the primary cause of blindness in Southern Sudan.',\n",
       " '233': 'Cell autonomous sex determination in somatic cells does not occur in Galliformes.',\n",
       " '236': 'Cell autonomous sex determination in somatic cells occurs in Passeriformes.',\n",
       " '237': 'Cells lacking clpC have a defect in sporulation efficiency in Bacillus subtilis.',\n",
       " '238': 'Cells undergoing methionine restriction may activate miRNAs.',\n",
       " '239': 'Cellular aging closely links to an older appearance.',\n",
       " '248': 'Chenodeosycholic acid treatment increases whole-body energy expenditure.',\n",
       " '249': 'Chenodeosycholic acid treatment reduces whole-body energy expenditure.',\n",
       " '261': 'Chronic aerobic exercise alters endothelial function, improving vasodilating mechanisms mediated by NO.',\n",
       " '268': 'Cold exposure increases BAT recruitment.',\n",
       " '269': 'Cold exposure reduces BAT recruitment.',\n",
       " '274': 'Combination nicotine replacement therapies with varenicline or bupropion lead to significantly higher long-term abstinence rates at 52 weeks than varenicline monotherapy.',\n",
       " '275': 'Combining phosphatidylinositide 3-kinase and MEK 1/2 inhibitors is effective at treating KRAS mutant tumors.',\n",
       " '279': \"Commelina yellow mottle virus' (ComYMV) genome consists of 7489 baise pairs.\",\n",
       " '294': 'Crossover hot spots are not found within gene promoters in Saccharomyces cerevisiae.',\n",
       " '295': 'Crosstalk between dendritic cells (DCs) and innate lymphoid cells (ILCs) is important in the regulation of intestinal homeostasis.',\n",
       " '298': 'Cytochrome c is released from the mitochondrial intermembrane space to cytosol during apoptosis.',\n",
       " '300': 'Cytosolic proteins bind to iron-responsive elements on mRNAs coding for DMT1. Cytosolic proteins bind to iron-responsive elements on mRNAs coding for proteins involved in iron uptake.',\n",
       " '303': 'DMRT1 is a sex-determining gene that is epigenetically regulated by the MHM region.',\n",
       " '312': 'De novo assembly of sequence data has more specific contigs than unassembled sequence data.',\n",
       " '314': 'Deamination of cytidine to uridine on the minus strand of viral DNA results in catastrophic G-to-A mutations in the viral genome.',\n",
       " '324': 'Deleting Raptor reduces G-CSF levels.',\n",
       " '327': 'Deletion of αvβ8 does not result in a spontaneous inflammatory phenotype.',\n",
       " '338': 'Dexamethasone decreases risk of postoperative bleeding.',\n",
       " '343': 'Diabetic patients with acute coronary syndrome experience increased short-term and long-term risk for bleeding events.',\n",
       " '350': 'Discrimination between the initiator and elongation tRNAs depends on the translation initiation factor IF3.',\n",
       " '354': 'Downregulation and mislocalization of Scribble prevents cell transformation and mammary tumorigenesis.',\n",
       " '362': 'During the primary early antibody response activated B cells migrate toward the inner-and outer paracortical areas where oxysterol accumulation is generated by stromal cells.',\n",
       " '380': 'Enhanced early production of inflammatory chemokines improves viral control in the lung.',\n",
       " '384': 'Epidemiological disease burden from noncommunicable diseases is more prevalent in low economic settings.',\n",
       " '385': 'Epigenetic modulating agents (EMAs) modulate antitumor immune response in a cancer model system.',\n",
       " '386': 'Errors in peripheral IV drug administration are most common during bolus administration and multiple-step medicine preparations.',\n",
       " '388': 'Ethanol stress decreases the expression of IBP in bacteria.',\n",
       " '399': 'Exposure to fine particulate air pollution is relate to anxiety prevalence.',\n",
       " '410': 'Febrile seizures increase the threshold for development of epilepsy.',\n",
       " '411': 'Febrile seizures reduce the threshold for development of epilepsy.',\n",
       " '415': 'Female carriers of the Apolipoprotein E4 (APOE4) allele have increased risk for dementia.',\n",
       " '421': 'Flexible molecules experience greater steric hindrance in the tumor microenviroment than rigid molecules.',\n",
       " '431': 'FoxO3a activation in neuronal death is mediated by reactive oxygen species (ROS).',\n",
       " '436': 'Free histones are degraded by a Rad53-dependent mechanism once DNA has been replicated.',\n",
       " '437': 'Functional consequences of genomic alterations due to Myelodysplastic syndrome (MDS) are poorly understood due to the lack of an animal model.',\n",
       " '439': 'Fz/PCP-dependent Pk localizes to the anterior membrane of neuroectoderm cells during zebrafish neuralation',\n",
       " '440': 'Fz/PCP-dependent Pk localizes to the anterior membrane of notochord cells during zebrafish neuralation.',\n",
       " '443': 'GATA-3 is important for hematopoietic stem cell (HSC) function.',\n",
       " '452': 'Gene expression does not vary appreciably across genetically identical cells.',\n",
       " '475': 'Glycolysis is one of the primary glycometabolic pathways in cells.',\n",
       " '478': 'Golli-deficient T-cells prefer to differentiate into an anergic phenotype in the adaptive immune response when there are increased levels of Ca2+ in the cytosol.',\n",
       " '491': 'HNF4A mutations can cause diabetes in mutant carriers by the age of 14 years',\n",
       " '501': 'Headaches are not correlated with cognitive impairment.',\n",
       " '502': 'Healthcare delivery efficiency in crowded delivery centers is impaired by improving structural, logistical, and interpersonal elements.',\n",
       " '507': 'Helminths interfere with immune system control of macrophages activated by IL-4 favor Mycobacterium tuberculosis replication.',\n",
       " '508': 'Hematopoietic Stem Cell purification reaches purity rate of up to 50%.',\n",
       " '513': 'High cardiopulmonary fitness causes increased mortality rate.',\n",
       " '514': 'High dietary calcium intakes are unnecessary for prevention of secondary hyperparathyroidism in subjects with 25(OH)D levels above 75 nmol/liter.',\n",
       " '516': 'High levels of CRP reduces the risk of exacerbations in chronic obstructive pulmonary disease (COPD).',\n",
       " '517': 'High levels of copeptin decrease risk of diabetes.',\n",
       " '521': 'High-sensitivity cardiac troponin T (HSCT-T) dosage may not be diagnostic if the onset of symptoms occurs less than 3 hours before acute myocardial injury (AMI).',\n",
       " '525': 'Histone demethylase recruitment and a transient decrease in histone methylation is necessary for ligand-dependent induction of transcription by nuclear receptors.',\n",
       " '527': 'Homozygous deletion of murine Sbds gene from osterix-expressing mesenchymal stem and progenitor cells (MPCs) prevents oxidative stress.',\n",
       " '528': 'Human T-lymphotropic virus type-I-associated myelopathy / tropical spastic paraparesis (HAM/TSP) patients produce Immunoglobulin G (IgG) antibodies which cross-react with an immunodominant epitope in Tax.',\n",
       " '532': 'Hyperfibrinogenemia decreases rates of femoropopliteal bypass thrombosis.',\n",
       " '533': 'Hyperfibrinogenemia increases rates of femoropopliteal bypass thrombosis.',\n",
       " '535': 'Hypertension is frequently observed in type 1 diabetes patients.',\n",
       " '536': 'Hypocretin neurones induce panicprone state in rats.',\n",
       " '539': 'Hypoglycemia increases the risk of dementia.',\n",
       " '540': 'Hypothalamic glutamate neurotransmission is crucial to energy balance.',\n",
       " '544': 'IFIT1 restricts viral replication by sequestrating mis-capped viral RNAs.',\n",
       " '549': 'IRG1 has antiviral effects against neurotropic viruses.',\n",
       " '551': 'ITAM phosphorylation prevents the transfer of the T cell receptor (TCR) signal from the echo-domain to the cytoplasmic tail of the T cell receptor (TCR).',\n",
       " '552': 'IgA plasma cells that are specific for transglutaminase 2 accumulate in the duodenal mucosa on commencement of a gluten-free diet.',\n",
       " '554': 'Immune complex triggered cell death leads to extracellular release of neutrophil protein HMGB1.',\n",
       " '560': 'Immune responses result in the development of inflammatory Th17 cells and anti-inflammatory iTregs.',\n",
       " '569': 'In adult tissue, most T cells are memory T cells.',\n",
       " '575': 'In domesticated populations of Saccharomyces cerevisiae, whole chromosome aneuploidy is very uncommon.',\n",
       " '577': 'In mice, P. chabaudi parasites are able to proliferate faster early in infection when inoculated at lower numbers than when inoculated at high numbers.',\n",
       " '578': 'In mouse models, the loss of CSF1R facilitates MOZ-TIF2-induced leuekmogenesis.',\n",
       " '587': 'In transgenic mice harboring green florescent protein under the control of the Sox2 promoter, less than ten percent of the cells with green florescent colocalize with cell proliferation markers.',\n",
       " '589': 'In young and middle-aged adults, current or remote uses of ADHD medications do not increase the risk of serious cardiovascular events.',\n",
       " '593': 'Incidence of heart failure decreased by 10% in women since 1979.',\n",
       " '597': 'Incidence rates of cervical cancer have decreased.',\n",
       " '598': 'Incidence rates of cervical cancer have increased due to nationwide screening programs based primarily on cytology to detect uterine cervical cancer.',\n",
       " '613': 'Increased microtubule acetylation repairs LRRK2 Roc-COR domain mutation induced locomotor deficits.',\n",
       " '619': 'Increased vessel density along with a reduction in fibrosis decreases the efficacy of chemotherapy treatments.',\n",
       " '623': 'Individuals with low serum vitamin D concentrations have increased risk of multiple sclerosis.',\n",
       " '628': 'Infection of human T-cell lymphotropic virus type 1 is most frequent in individuals of African origin.',\n",
       " '636': 'Inositol lipid 3-phosphatase PTEN converts Ptdlns(3,4)P 2 into phosphatidylinositol 4-phosphate.',\n",
       " '637': 'Input from  mental and physical health care professionals is effective at decreasing homelessness.',\n",
       " '641': 'Insomnia can be effectively treated with cognitive behavioral therapy.',\n",
       " '644': 'Insulin increases risk of severe kidney failure.',\n",
       " '649': 'Integrating classroom-based collaborative learning with Web-based collaborative learning leads to subpar class performance',\n",
       " '659': 'Ivermectin is used to treat lymphatic filariasis.',\n",
       " '660': 'Ivermectin is used to treat onchocerciasis.',\n",
       " '674': 'LDL cholesterol has no involvement in the development of cardiovascular disease.',\n",
       " '684': 'Lack of clpC does not affect sporulation efficiency in Bacillus subtilis cells.',\n",
       " '690': 'Less than 10% of the gabonese children with Schimmelpenning-Feuerstein-Mims syndrome (SFM) had a plasma lactate of more than 5mmol/L.',\n",
       " '691': 'Leukemia associated Rho guanine nucleotide-exchange factor represses RhoA in response to SRC activation.',\n",
       " '692': 'Leuko-increased blood increases infectious complications in red blood cell transfusion.',\n",
       " '693': 'Leuko-reduced blood reduces infectious complications in red blood cell transfusion.',\n",
       " '700': 'Localization of PIN1 in the Arabidopsis embryo does not require VPS9a',\n",
       " '702': 'Localization of PIN1 in the roots of Arabidopsis does not require VPS9a',\n",
       " '715': 'Low expression of miR7a does represses target genes and exerts a biological function in ovaries.',\n",
       " '716': 'Low expression of miR7a exerts a biological function in testis.',\n",
       " '718': 'Low nucleosome occupancy correlates with low methylation levels across species.',\n",
       " '721': 'Lupus-prone mice infected with curliproducing bacteria have higher autoantibody titers compared to controls.',\n",
       " '723': 'Ly49Q directs the organization of neutrophil migration to inflammation sites by regulating membrane raft functions.',\n",
       " '727': 'Ly6C hi monocytes have a lower inflammatory capacity compared to their Ly6C lo counterparts.',\n",
       " '728': 'Ly6C hi monocytes have a lower inflammatory capacity than Ly6C lo monocytes.',\n",
       " '729': 'Lymphadenopathy is observed in knockin mouse lacking the SHP-2 MAPK pathway.',\n",
       " '742': 'Macrolides have no protective effect against myocardial infarction.',\n",
       " '743': 'Macrolides protect against myocardial infarction.',\n",
       " '744': \"Macropinocytosis contributes to a cell's supply of amino acids via the intracellular uptake of protein.\",\n",
       " '756': 'Many proteins in human cells can be post-translationally modified at lysine residues via acetylation.',\n",
       " '759': 'Mathematical models predict that using Artemisinin-based combination therapy over nongametocytocidal drugs have a dramatic impact in reducing malaria transmission.',\n",
       " '768': 'Mercaptopurine is anabolized into the inactive methylmercaptopurine by thiopurine methyltrasnferase (TPMT).',\n",
       " '770': 'Metastatic colorectal cancer treated with a single agent fluoropyrimidines resulted in reduced efficacy and lower quality of life when compared with oxaliplatin-based chemotherapy in elderly patients.',\n",
       " '775': 'Mice defective for deoxyribonucleic acid (DNA) polymerase I (polI) reveal increased sensitivity to ionizing radiation (IR).',\n",
       " '781': 'Mice that lack Interferon-γ or its receptor exhibit high resistance to experimental autoimmune myocarditis.',\n",
       " '783': 'Mice without IFN-γ or its receptor are resistant to EAM induced with α-MyHC/CFA.',\n",
       " '784': 'MicroRNA is involved in the regulation of Neural Stem Cell (NSC) differentiation and proliferation dynamic homeostasis',\n",
       " '785': 'Microarray results from culture-amplified mixtures of serotypes correlate poorly with microarray results from uncultured mixtures.',\n",
       " '793': 'Mitochondria are uninvolved in apoptosis.',\n",
       " '800': 'Modifying the epigenome in the brain affects the normal human aging process by affecting certain genes related to neurogenesis.',\n",
       " '805': 'Monoclonal antibody targeting of N-cadherin inhibits metastasis.',\n",
       " '808': 'Most termination events in Okazaki fragments are sequence specific.',\n",
       " '811': 'Mutant mice lacking SVCT2 have greatly increased ascorbic acid levels in both brain and adrenals.',\n",
       " '814': 'Mutations in G-Beta protein GNB2 are present in many cancers, resulting in loss of interaction with G-alpha subunits and concomitant activation of AKT pathway.',\n",
       " '820': 'N-terminal cleavage increases success identifying transcription start sites.',\n",
       " '821': 'N-terminal cleavage reduces success identifying transcription start sites.',\n",
       " '823': 'N348I mutations cause resistance to zidovudine (AZT).',\n",
       " '830': 'NF2 (Merlin) causes phosphorylation and subsequent cytoplasmic sequestration of YAP in Drosophila by activating LATS1/2 kinases.',\n",
       " '831': 'NF2 (Merlin) prevents phosphorylation and subsequent cytoplasmic sequestration of YAP in Drosophila.',\n",
       " '832': 'NFAT4 activation requires IP3R-mediated Ca2+ mobilization.',\n",
       " '834': 'NOX2-independent pathways can generate peroxynitrite by reacting with nitrogen intermediates.',\n",
       " '837': 'NR5A2 is important in development of endometrial tissues.',\n",
       " '839': 'Nanoparticles can be targeted against specific cell types by incorporating aptamers into lipid nanoparticles.',\n",
       " '845': 'Neutrophil extracellular traps (NETs) are released by ANCA-stimulated neutrophils.',\n",
       " '847': 'New drugs for tuberculosis often do not penetrate the necrotic portion of a tuberculosis lesion in high concentrations.',\n",
       " '852': 'Non-invasive ventilation use should be decreased if there is inadequate response to conventional treatment.',\n",
       " '859': 'Normal expression of RUNX1 has tumor-promoting effects.',\n",
       " '870': 'Obesity decreases life quality.',\n",
       " '873': 'Obesity is determined solely by environmental factors.',\n",
       " '879': 'Occupancy of ribosomes by IncRNAs do not make functional peptides.',\n",
       " '880': 'Occupancy of ribosomes by IncRNAs mirror 5 0-UTRs',\n",
       " '882': 'Omnivores produce less trimethylamine N-oxide from dietary I-carnitine than vegetarians.',\n",
       " '887': 'Only a minority of cells survive development after differentiation into stress-resistant spores.',\n",
       " '903': 'PD-1 triggering on monocytes reduces IL-10 production by monocytes.',\n",
       " '904': 'PDPN promotes efficient motility along stromal surfaces by activating the C-type lectin receptor to rearrange the actin cytoskeleton in dendritic cells.',\n",
       " '907': 'PGE 2 promotes intestinal tumor growth by altering the expression of tumor suppressing and DNA repair genes.',\n",
       " '911': 'PKG-la plays an essential role in expression of pain hypersensitivity in PGK-la knockout mice.',\n",
       " '913': 'PPAR-RXRs are inhibited by PPAR ligands.',\n",
       " '914': 'PPAR-RXRs can be activated by PPAR ligands.',\n",
       " '921': 'Participating in six months of physical activity improves cognitive functioning.',\n",
       " '922': 'Patients in stable partnerships have a faster progression from HIV to AIDS.',\n",
       " '936': 'Peroxynitrite is required for nitration of TCR/CD8.',\n",
       " '956': 'Pleiotropic coupling of GLP-1R to intracellular effectors promotes distinct profiles of cellular signaling.',\n",
       " '957': 'Podocytes are motile and migrate in the presence of injury.',\n",
       " '960': 'Polymeal nutrition reduces cardiovascular mortality.',\n",
       " '967': 'Pretreatment with the Arp2/3 inhibitor CK-666 affects lamelliopodia formation.',\n",
       " '971': 'Primary cervical cancer screening with HPV detection has higher longitudinal sensitivity than conventional cytology to detect cervical intraepithelial neoplasia grade 2.',\n",
       " '975': 'Primary pro-inflammatory cytokines induce secondary pro- and anti-inflammatory mediators.',\n",
       " '982': 'Proteins synthesized at the growth cone are ubiquitinated at a higher rate than proteins from the cell body.',\n",
       " '985': 'Pseudogene PTENP1 regulates the expression of PTEN by functioning as an miRNA decoy.',\n",
       " '993': 'Pyridostatin destabilizes the G - quadruplex in the telomeric region.',\n",
       " '1012': 'Radioiodine treatment of non-toxic multinodular goitre reduces thyroid volume.',\n",
       " '1014': 'Rapamycin decreases the concentration of triacylglycerols in fruit flies.',\n",
       " '1019': 'Rapid phosphotransfer rates govern fidelity in two component systems',\n",
       " '1020': 'Rapid up-regulation and higher basal expression of interferon-induced genes increase survival of granule cell neurons that are infected by West Nile virus.',\n",
       " '1021': 'Rapid up-regulation and higher basal expression of interferon-induced genes reduce survival of granule cell neurons that are infected by West Nile virus.',\n",
       " '1024': 'Recurrent mutations occur frequently within CTCF anchor sites adjacent to oncogenes.',\n",
       " '1029': 'Reduced responsiveness to interleukin-2 in regulatory T cells is associated with greater resistance to autoimmune diseases such as Type 1 Diabetes.',\n",
       " '1041': 'Replacement of histone H2A with H2A.Z slows gene activation in yeasts by stabilizing +1 nucleosomes.',\n",
       " '1049': 'Ribosomopathies have a low degree of cell and tissue specific pathology.',\n",
       " '1062': 'S-nitrosylated GAPDH physiologically transnitrosylates histone deacetylases.',\n",
       " '1086': 'Sildenafil improves erectile function in men who experience sexual dysfunction as a result of the use of SSRI antidepressants.',\n",
       " '1088': 'Silencing of Bcl2 is important for the maintenance and progression of tumors.',\n",
       " '1089': 'Smc5/6 engagment drives the activation of SUMO E3 ligase Mms21 by ATP-dependent remolding.',\n",
       " '1099': 'Statins decrease blood cholesterol.',\n",
       " '1100': 'Statins increase blood cholesterol.',\n",
       " '1104': 'Stroke patients with prior use of direct oral anticoagulants have a lower risk of in-hospital mortality than stroke patients with prior use of warfarin.',\n",
       " '1107': 'Subcutaneous fat depots undergo extensive browning processes after cold exposure.',\n",
       " '1110': 'Suboptimal nutrition is not predictive of chronic disease',\n",
       " '1121': 'Synaptic activity enhances local release of brain derived neurotrophic factor from postsynaptic dendrites.',\n",
       " '1130': 'T regulatory cells (tTregs) lacking αvβ8 are more adept at suppressing pathogenic T-cell responses during active inflammation.',\n",
       " '1132': 'TCR/CD3 microdomains are a required to induce the immunologic synapse to activate T cells.',\n",
       " '1137': 'TNFAIP3 is a tumor suppressor in glioblastoma.',\n",
       " '1140': 'Taking 400mg of α-tocopheryl acetate helps to prevent prostate cancer.',\n",
       " '1144': 'Taxation of sugar-sweetened beverages had no effect on the incidence rate of type II diabetes in India.',\n",
       " '1146': 'Teaching hospitals do not provide better care than non-teaching hospitals.',\n",
       " '1150': 'Tetraspanin-3 is a causative factor in the development of acute myelogenous leukemia',\n",
       " '1163': 'The DdrB protein from Deinococcus radiodurans is an alternative SSB.',\n",
       " '1175': 'The PPR MDA5 has two N-terminal CARD domains.',\n",
       " '1179': 'The PRR MDA5 has a central DExD/H RNA helices domain.',\n",
       " '1180': 'The PRR MDA5 is a sensor of RNA virus infection.',\n",
       " '1185': 'The US health care system can save up to $750 million if 7% of patients waiting for kidney transplants participate in the optimized national kidney paired donation program.',\n",
       " '1187': 'The YAP1 and TEAD complex tanslocates into the nucleus where it interacts with transcription factors and DNA-binding proteins that modulate target gene transcription.',\n",
       " '1191': 'The amount of publicly available DNA data doubles every 10 years.',\n",
       " '1194': \"The arm density of TatAd complexes is due to structural rearrangements within Class1 TatAd complexes such as the 'charge zipper mechanism'.\",\n",
       " '1196': 'The availability of safe places to study is effective at decreasing homelessness.',\n",
       " '1197': 'The availability of safe places to study is not effective at decreasing homelessness.',\n",
       " '1199': 'The benefits of colchicine were achieved with effective widespread use of secondary prevention strategies such as high-dose statins.',\n",
       " '1200': 'The binding orientation of the ML-SA1 activator at hTRPML2 is different from the binding orientation of the ML-SA1 activator at hTRPML1.',\n",
       " '1202': 'The center of the granuloma in an immune cell induces a pro-inflammatory immune response.',\n",
       " '1204': 'The combination of H3K4me3 and H3K79me2 is found in quiescent hair follicle stem cells.',\n",
       " '1207': 'The composition of myosin-II isoform switches from the polarizable B isoform to the more homogenous A isoform during hematopoietic differentiation.',\n",
       " '1213': 'The deregulated and prolonged activation of monocytes has deleterious effects in inflammatory diseases.',\n",
       " '1216': 'The extracellular domain of TMEM27 is cleaved in human beta cells.',\n",
       " '1221': 'The genomic aberrations found in matasteses are very similar to those found in the primary tumor.',\n",
       " '1225': 'The locus rs647161 is associated with colorectal carcinoma.',\n",
       " '1226': 'The loss of the TET protein functions may have dire biological consequences, such as myeloid cancers.',\n",
       " '1232': \"The minor G allele of FOXO3 is related to more severe symptoms of Crohn's Disease.\",\n",
       " '1241': 'The myocardial lineage develops from cardiac progenitors of mesodermal origin.',\n",
       " '1245': 'The one-child policy has been successful in lowering population growth.',\n",
       " '1259': \"The relationship between a breast cancer patient's capacity to metabolize tamoxifen and treatment outcome is dependent on the patient's genetic make-up.\",\n",
       " '1262': 'The repair of Cas9-induced double strand breaks in human DNA is error-prone.',\n",
       " '1266': 'The risk of breast cancer among parous women increases with placental weight of pregnancies, and this association is strongest for premenopausal breast cancer.',\n",
       " '1270': 'The risk of male prisoners harming themselves is ten times that of female prisoners.',\n",
       " '1271': 'The severity of cardiac involvement in amyloidosis can be described by the degree of transmurality of late gadolinium enhancement in MRI.',\n",
       " '1272': 'The single flash-evoked ERG b-wave is generated by activity of ON-bipolar cells.',\n",
       " '1273': 'The sliding activity of kinesin-8 protein Kip3 promotes bipolar spindle assembly.',\n",
       " '1274': 'The tip of the inner tube of the toxic type VI secretion system (T6SS) antibacterial effector in Escherichia coli (E. coli) carries toxic effector proteins.',\n",
       " '1278': 'The treatment of cancer patients with co-IR blockade does not cause any adverse autoimmune events.',\n",
       " '1279': 'The treatment of cancer patients with co-IR blockade precipitates adverse autoimmune events.',\n",
       " '1280': 'The ureABIEFGH gene cluster encodes urease maturation proteins : UreD/UreH, UreE, UreF, and UreG.',\n",
       " '1281': 'The ureABIEFGH gene cluster is induced by nickel (II) ion.',\n",
       " '1282': 'Therapeutic use of the drug Dapsone to treat pyoderma gangrenous is based on anecdotal evidence.',\n",
       " '1290': 'There is an inverse relationship between hip fractures and statin use.',\n",
       " '1292': 'There is no association between HNF4A mutations and diabetes risks.',\n",
       " '1298': 'Thigh-length graduated compression stockings (GCS) did not reduce deep vein thrombosis in patients admitted to hospital who are immobile because of acute stroke.',\n",
       " '1303': 'Tirasemtiv has no effect on fast-twitch muscle.',\n",
       " '1316': 'Transferred UCB T cells acquire a memory-like phenotype in recipients.',\n",
       " '1319': 'Transplanted human glial cells can differentiate within the host animal.',\n",
       " '1320': \"Transplanted human glial progenitor cells are incapable of forming a neural network with host animals' neurons.\",\n",
       " '1332': 'Tumor necrosis factor alpha (TNF-α) and interleukin-1 (IL-1) are pro-inflammatory cytokines that inhibit IL-6 and IL-10.',\n",
       " '1335': 'UCB T cells maintain high TCR diversity after transplantation.',\n",
       " '1336': 'UCB T cells reduce TCR diversity after transplantation.',\n",
       " '1337': 'Ubiquitin ligase UBC13 generates a K63-linked polyubiquitin moiety at PCNA K164.',\n",
       " '1339': 'Ultrasound guidance significantly raises the number of traumatic procedures when attempting needle insertion.',\n",
       " '1344': 'Up-regulation of the p53 pathway and related molecular events casues cancer resistance and results in a significantly shortened lifespan marked by senescent cells and accelerated organismal aging.',\n",
       " '1352': 'Upregulation of mosGCTL-1 is induced upon infection with West Nile virus.',\n",
       " '1359': 'Varenicline monotherapy is more effective after 12 weeks of treatment compared to combination nicotine replacement therapies with varenicline or bupropion.',\n",
       " '1362': 'Venules have a larger lumen diameter than arterioles.',\n",
       " '1363': 'Venules have a thinner or absent smooth layer compared to arterioles.',\n",
       " '1368': 'Vitamin D deficiency effects the term of delivery.',\n",
       " '1370': 'Vitamin D deficiency is unrelated to birth weight.',\n",
       " '1379': 'Women with a higher birth weight are more likely to develop breast cancer later in life.',\n",
       " '1382': 'aPKCz causes tumour enhancement by affecting glutamine metabolism.',\n",
       " '1385': 'cSMAC formation enhances weak ligand signalling.',\n",
       " '1389': 'mTORC2 regulates intracellular cysteine levels through xCT inhibition.',\n",
       " '1395': 'p16INK4A accumulation is  linked to an abnormal wound response caused by the microinvasive step of advanced Oral Potentially Malignant Lesions (OPMLs).'}"
      ]
     },
     "execution_count": 26,
     "metadata": {},
     "output_type": "execute_result"
    }
   ],
   "source": [
    "queries"
   ]
  },
  {
   "cell_type": "code",
   "execution_count": 80,
   "metadata": {},
   "outputs": [
    {
     "name": "stdout",
     "output_type": "stream",
     "text": [
      "{'31715818': {'text': 'Nanotechnologies are emerging platforms that could be useful in measuring, understanding, and manipulating stem cells. Examples include magnetic nanoparticles and quantum dots for stem cell labeling and in vivo tracking; nanoparticles, carbon nanotubes, and polyplexes for the intracellular delivery of genes/oligonucleotides and protein/peptides; and engineered nanometer-scale scaffolds for stem cell differentiation and transplantation. This review examines the use of nanotechnologies for stem cell tracking, differentiation, and transplantation. We further discuss their utility and the potential concerns regarding their cytotoxicity.', 'title': 'New opportunities: the use of nanotechnologies to manipulate and track stem cells.'}, '14717500': {'text': 'Genome-wide association studies (GWAS) have now identified at least 2,000 common variants that appear associated with common diseases or related traits (http://www.genome.gov/gwastudies), hundreds of which have been convincingly replicated. It is generally thought that the associated markers reflect the effect of a nearby common (minor allele frequency >0.05) causal site, which is associated with the marker, leading to extensive resequencing efforts to find causal sites. We propose as an alternative explanation that variants much less common than the associated one may create \"synthetic associations\" by occurring, stochastically, more often in association with one of the alleles at the common site versus the other allele. Although synthetic associations are an obvious theoretical possibility, they have never been systematically explored as a possible explanation for GWAS findings. Here, we use simple computer simulations to show the conditions under which such synthetic associations will arise and how they may be recognized. We show that they are not only possible, but inevitable, and that under simple but reasonable genetic models, they are likely to account for or contribute to many of the recently identified signals reported in genome-wide association studies. We also illustrate the behavior of synthetic associations in real datasets by showing that rare causal mutations responsible for both hearing loss and sickle cell anemia create genome-wide significant synthetic associations, in the latter case extending over a 2.5-Mb interval encompassing scores of \"blocks\" of associated variants. In conclusion, uncommon or rare genetic variants can easily create synthetic associations that are credited to common variants, and this possibility requires careful consideration in the interpretation and follow up of GWAS signals.', 'title': 'Rare Variants Create Synthetic Genome-Wide Associations'}}\n"
     ]
    }
   ],
   "source": [
    "corpus\n",
    "first_corpus = {'31715818': corpus['31715818'], '14717500': corpus['14717500']}\n",
    "print(first_corpus)"
   ]
  },
  {
   "cell_type": "code",
   "execution_count": 79,
   "metadata": {},
   "outputs": [
    {
     "name": "stdout",
     "output_type": "stream",
     "text": [
      "{'1': '0-dimensional biomaterials show inductive properties.', '3': '1,000 genomes project enables mapping of genetic sequence variation consisting of rare variants with larger penetrance effects than common variants.'}\n"
     ]
    }
   ],
   "source": [
    "queries\n",
    "first_queries = {list(queries.keys())[0]: list(queries.values())[0], list(queries.keys())[1]: list(queries.values())[1]}\n",
    "print(first_queries)"
   ]
  },
  {
   "cell_type": "code",
   "execution_count": 83,
   "metadata": {},
   "outputs": [
    {
     "name": "stdout",
     "output_type": "stream",
     "text": [
      "2024-12-08 10:53:18 - Use pytorch device_name: cpu\n",
      "2024-12-08 10:53:18 - Load pretrained SentenceTransformer: msmarco-distilbert-base-tas-b\n",
      "2024-12-08 10:53:22 - Encoding Queries...\n"
     ]
    },
    {
     "name": "stderr",
     "output_type": "stream",
     "text": [
      "Batches: 100%|██████████| 1/1 [00:00<00:00, 17.95it/s]\n"
     ]
    },
    {
     "name": "stdout",
     "output_type": "stream",
     "text": [
      "2024-12-08 10:53:22 - Sorting Corpus by document length (Longest first)...\n",
      "2024-12-08 10:53:22 - Encoding Corpus in batches... Warning: This might take a while!\n",
      "2024-12-08 10:53:22 - Scoring Function: Cosine Similarity (cos_sim)\n",
      "2024-12-08 10:53:22 - Encoding Batch 1/1...\n"
     ]
    },
    {
     "name": "stderr",
     "output_type": "stream",
     "text": [
      "Batches: 100%|██████████| 1/1 [00:00<00:00,  2.30it/s]\n"
     ]
    }
   ],
   "source": [
    "#### Load the SBERT model and retrieve using cosine-similarity\n",
    "model = DRES(models.SentenceBERT(\"msmarco-distilbert-base-tas-b\"), batch_size=16)\n",
    "retriever = EvaluateRetrieval(model, score_function=\"cos_sim\") # or \"cos_sim\" for cosine similarity\n",
    "results = retriever.retrieve(first_corpus, first_queries)"
   ]
  },
  {
   "cell_type": "code",
   "execution_count": 84,
   "metadata": {},
   "outputs": [
    {
     "data": {
      "text/plain": [
       "{'1': {'14717500': 0.7089304327964783, '31715818': 0.7242918610572815},\n",
       " '3': {'31715818': 0.7258668541908264, '14717500': 0.7888635993003845}}"
      ]
     },
     "execution_count": 84,
     "metadata": {},
     "output_type": "execute_result"
    }
   ],
   "source": [
    "results"
   ]
  },
  {
   "cell_type": "code",
   "execution_count": null,
   "metadata": {},
   "outputs": [],
   "source": [
    "#### Evaluate your model with NDCG@k, MAP@K, Recall@K and Precision@K  where k = [1,3,5,10,100,1000] \n",
    "ndcg, _map, recall, precision = retriever.evaluate(qrels, results, retriever.k_values)"
   ]
  }
 ],
 "metadata": {
  "kernelspec": {
   "display_name": "base",
   "language": "python",
   "name": "python3"
  },
  "language_info": {
   "codemirror_mode": {
    "name": "ipython",
    "version": 3
   },
   "file_extension": ".py",
   "mimetype": "text/x-python",
   "name": "python",
   "nbconvert_exporter": "python",
   "pygments_lexer": "ipython3",
   "version": "3.12.3"
  }
 },
 "nbformat": 4,
 "nbformat_minor": 2
}
