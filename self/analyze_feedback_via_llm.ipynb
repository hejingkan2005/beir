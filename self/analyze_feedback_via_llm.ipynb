{
 "cells": [
  {
   "cell_type": "code",
   "execution_count": null,
   "metadata": {},
   "outputs": [],
   "source": [
    "from openai import AzureOpenAI\n",
    "from azure.identity import DefaultAzureCredential, get_bearer_token_provider\n",
    "\n",
    "import json\n",
    " \n",
    "\n",
    "def analyze_feedback(feedback_text) -> str:\n",
    "    prompt = f\"\"\"Analyze the following negative customer feedback to identify recurring themes and unanswered questions:\n",
    "\n",
    "{feedback_text}\n",
    "\n",
    "Summarize the key issues and suggest actionable steps to address them.  Structure your response as follows:\n",
    "\n",
    "**Key Issues:** (List the main problems)\n",
    "**Unanswered Questions:** (List frequently asked questions that weren't adequately addressed)\n",
    "**Action Plan:** (Suggest concrete steps to improve customer satisfaction)\n",
    "\"\"\"\n",
    "\n",
    "    token_provider = get_bearer_token_provider(\n",
    "        DefaultAzureCredential(), \"https://cognitiveservices.azure.com/.default\"\n",
    "    )\n",
    "    \n",
    "    client = AzureOpenAI(\n",
    "        azure_ad_token_provider=token_provider,\n",
    "        api_version=\"2024-10-21\",\n",
    "        azure_endpoint=\"https://discovery-eastus.openai.azure.com/\",\n",
    "    )\n",
    "    \n",
    "    response = client.chat.completions.create(\n",
    "        model=\"gpt-4o-mini-2024-07-18-global\", messages=[\n",
    "            {\n",
    "            \"role\": \"user\",\n",
    "            \"content\": prompt\n",
    "            }\n",
    "        ],\n",
    "    )\n",
    "\n",
    "    return response.choices[0].message.content\n",
    "\n",
    "\n",
    "# Example usage (replace with your actual feedback data)\n",
    "feedback_data = \"\"\"\n",
    "Customer 1: The app crashed three times.  I couldn't complete my order.  Why is it so unstable?\n",
    "Customer 2:  The instructions were unclear. I couldn't figure out how to use the feature.  Is there a video tutorial?\n",
    "Customer 3:  The customer support was unhelpful.  My issue wasn't resolved.  How can I get better support?\n",
    "Customer 4: The app crashed three times.  I couldn't complete my order.  Why is it so unstable?\n",
    "\"\"\"\n",
    "\n",
    "analysis_result = analyze_feedback(feedback_data)\n",
    "print(analysis_result)"
   ]
  }
 ],
 "metadata": {
  "kernelspec": {
   "display_name": "base",
   "language": "python",
   "name": "python3"
  },
  "language_info": {
   "name": "python",
   "version": "3.12.3"
  }
 },
 "nbformat": 4,
 "nbformat_minor": 2
}
