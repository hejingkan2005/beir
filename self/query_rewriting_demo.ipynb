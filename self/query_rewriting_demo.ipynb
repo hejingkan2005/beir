{
 "cells": [
  {
   "cell_type": "code",
   "execution_count": 2,
   "metadata": {},
   "outputs": [],
   "source": [
    "# Import required libraries\n",
    "import os\n",
    "import requests\n",
    "from IPython.display import display, Markdown"
   ]
  },
  {
   "cell_type": "markdown",
   "metadata": {},
   "source": [
    "# AI Search Query Rewriting Demo\n",
    "\n",
    "This notebook demonstrates how to use AI search for query rewriting."
   ]
  },
  {
   "cell_type": "code",
   "execution_count": 9,
   "metadata": {},
   "outputs": [],
   "source": [
    "# Set up API endpoint and credentials\n",
    "api_endpoint = \"https://jcloud.search.windows.net/indexes/learncontent-document-chunk-index/docs/search?api-version=2024-11-01-preview\"\n",
    "api_key = \"{api-key}\""
   ]
  },
  {
   "cell_type": "code",
   "execution_count": 10,
   "metadata": {},
   "outputs": [
    {
     "data": {
      "text/markdown": [
       "**Original Query:** how to implement vector search"
      ],
      "text/plain": [
       "<IPython.core.display.Markdown object>"
      ]
     },
     "metadata": {},
     "output_type": "display_data"
    }
   ],
   "source": [
    "# Example query\n",
    "original_query = \"how to implement vector search\"\n",
    "display(Markdown(f\"**Original Query:** {original_query}\"))"
   ]
  },
  {
   "cell_type": "code",
   "execution_count": 28,
   "metadata": {},
   "outputs": [],
   "source": [
    "# Query rewriting function\n",
    "def rewrite_query(query, take_count=5):\n",
    "    headers = {\n",
    "        \"Content-Type\": \"application/json\",\n",
    "        \"api-key\": f\"{api_key}\"\n",
    "    }\n",
    "    \n",
    "    payload = {\n",
    "            \"search\": original_query,\n",
    "            \"semanticConfiguration\":\"semantic-config\",\n",
    "            \"queryType\":\"semantic\",\n",
    "            \"queryRewrites\":f\"generative|count-{take_count}\",\n",
    "            \"queryLanguage\":\"en-US\",\n",
    "            \"debug\":\"queryRewrites\",\n",
    "            \"top\": 1\n",
    "    }\n",
    "    \n",
    "    response = requests.post(api_endpoint, json=payload, headers=headers)\n",
    "    response.raise_for_status()\n",
    "    return response.json()[\"@search.debug\"][\"queryRewrites\"][\"text\"][\"rewrites\"]"
   ]
  },
  {
   "cell_type": "markdown",
   "metadata": {},
   "source": [
    "# Sample query\n",
    "\n",
    "## typo\n",
    "- What is Azuer function\n",
    "- ho to crate Azure acount\n",
    "\n",
    "## Synonym\n",
    "- What is Azure AD?\n",
    "\n",
    "## What\n",
    "- what is Microsoft Synapse?\n",
    "\n",
    "## How\n",
    "- How do I assign Fabric Administrator role to someone? \n",
    "\n",
    "## Short sentences/terms\n",
    "- Azure Kubernetes\n",
    "- Azure FrontDoor\n",
    "\n",
    "## Long context\n",
    "- Connecting to Cosmos DB using System Assigned managed Identity in Primary region.Now I have a secondary region in Separate subscription (For Disaster recovery) where in I have Azure function in Secondary region, but I don't have a Physical Cosmos db in secondary region.As I have enabled Cosmos db as multi-region (with Single region write) in my Primary regionSo the question is How will I set up a connection from Azure function in Secondary region to my Cosmos db utilizing Managed identity of Cosmos db. \n",
    "\n",
    "Tip: (query rewrite not working when contains '-', '-->' like Hi Everyone -I have an Azure function -->)"
   ]
  },
  {
   "cell_type": "code",
   "execution_count": 83,
   "metadata": {},
   "outputs": [
    {
     "data": {
      "text/markdown": [
       "**Original Query:**  Hi Everyone I have an Azure function"
      ],
      "text/plain": [
       "<IPython.core.display.Markdown object>"
      ]
     },
     "metadata": {},
     "output_type": "display_data"
    },
    {
     "data": {
      "text/markdown": [
       "**Rewritten Query:**\n",
       "\n",
       "1. Azure function development for beginners\n",
       "2. How to create an Azure function\n",
       "3. Guide to Azure functions for beginners\n",
       "4. Azure function introduction for beginners\n",
       "5. Guide to Azure functions for developers\n",
       "6. How to manage Azure functions\n",
       "7. Azure function implementation for beginners\n",
       "8. Azure function implementation for developers\n",
       "9. Azure function development guide\n",
       "10. Azure function developer's guide"
      ],
      "text/plain": [
       "<IPython.core.display.Markdown object>"
      ]
     },
     "metadata": {},
     "output_type": "display_data"
    }
   ],
   "source": [
    "# Get and display rewritten query\n",
    "original_query = \" Hi Everyone I have an Azure function\"\n",
    "rewritten_query = rewrite_query(original_query, 10)\n",
    "display(Markdown(f\"**Original Query:** {original_query}\"))\n",
    "display(Markdown(f\"**Rewritten Query:**\\n\\n\" + \"\\n\".join(f\"{i+1}. {q}\" for i, q in enumerate(rewritten_query))))"
   ]
  }
 ],
 "metadata": {
  "kernelspec": {
   "display_name": "Python 3",
   "language": "python",
   "name": "python3"
  },
  "language_info": {
   "codemirror_mode": {
    "name": "ipython",
    "version": 3
   },
   "file_extension": ".py",
   "mimetype": "text/x-python",
   "name": "python",
   "nbconvert_exporter": "python",
   "pygments_lexer": "ipython3",
   "version": "3.9.13"
  }
 },
 "nbformat": 4,
 "nbformat_minor": 4
}
